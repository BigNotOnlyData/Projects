{
 "cells": [
  {
   "cell_type": "markdown",
   "metadata": {},
   "source": [
    "# Классификация интентов"
   ]
  },
  {
   "cell_type": "markdown",
   "metadata": {},
   "source": [
    "## 1. Загрузка библиотек"
   ]
  },
  {
   "cell_type": "code",
   "execution_count": 1,
   "metadata": {
    "id": "pE8jTkT3bYn0"
   },
   "outputs": [],
   "source": [
    "import random\n",
    "import json\n",
    "import re\n",
    "\n",
    "from sklearn.feature_extraction.text import CountVectorizer\n",
    "from sklearn.ensemble import RandomForestClassifier\n",
    "from sklearn.linear_model import LogisticRegression\n",
    "from sklearn.model_selection import train_test_split\n",
    "from sklearn.metrics import f1_score\n",
    "\n",
    "from tqdm import tqdm\n",
    "import matplotlib.pyplot as plt\n",
    "import pickle"
   ]
  },
  {
   "cell_type": "markdown",
   "metadata": {},
   "source": [
    "## 2. Предобработка текста"
   ]
  },
  {
   "cell_type": "code",
   "execution_count": 112,
   "metadata": {},
   "outputs": [
    {
     "name": "stdout",
     "output_type": "stream",
     "text": [
      "Количество интентов: 99\n"
     ]
    }
   ],
   "source": [
    "TOKEN_RE = re.compile(r'[а-яё]+')\n",
    "\n",
    "with open('BOT_CONFIG_INTENTS.json', encoding='utf-8') as f:\n",
    "    BOT_CONFIG = json.load(f)\n",
    "print('Количество интентов:', len(BOT_CONFIG['intents'].keys()))"
   ]
  },
  {
   "cell_type": "code",
   "execution_count": 115,
   "metadata": {
    "colab": {
     "base_uri": "https://localhost:8080/"
    },
    "id": "BlnJzx01W5Tz",
    "outputId": "9c36cbf3-e383-4569-a549-4a92c4e18714"
   },
   "outputs": [
    {
     "name": "stdout",
     "output_type": "stream",
     "text": [
      "Количество примеров: 540\n",
      "Количество меток: 540\n"
     ]
    }
   ],
   "source": [
    "def text_cleaning(txt):\n",
    "    txt = txt.lower()\n",
    "    all_tokens = TOKEN_RE.findall(txt)\n",
    "    return ' '.join([token for token in all_tokens])\n",
    "\n",
    "texts = []\n",
    "y = []\n",
    "for intent in BOT_CONFIG['intents'].keys():\n",
    "    for example in BOT_CONFIG['intents'][intent]['examples']:\n",
    "        texts.append(text_cleaning(example))\n",
    "        y.append(intent)\n",
    "print('Количество примеров:', len(texts))\n",
    "print('Количество меток:', len(y))"
   ]
  },
  {
   "cell_type": "code",
   "execution_count": 116,
   "metadata": {},
   "outputs": [
    {
     "data": {
      "text/plain": [
       "['philosophy', 'philosophy', 'philosophy', 'philosophy', 'philosophy']"
      ]
     },
     "execution_count": 116,
     "metadata": {},
     "output_type": "execute_result"
    }
   ],
   "source": [
    "y[-5:]"
   ]
  },
  {
   "cell_type": "code",
   "execution_count": 117,
   "metadata": {},
   "outputs": [
    {
     "data": {
      "text/plain": [
       "['рассуждение',\n",
       " 'ты чего умничаешь',\n",
       " 'в чем смысл',\n",
       " 'умный что ли',\n",
       " 'мудрая мысль']"
      ]
     },
     "execution_count": 117,
     "metadata": {},
     "output_type": "execute_result"
    }
   ],
   "source": [
    "texts[-5:]"
   ]
  },
  {
   "cell_type": "markdown",
   "metadata": {},
   "source": [
    "## 3. Векторизация"
   ]
  },
  {
   "cell_type": "code",
   "execution_count": 118,
   "metadata": {
    "id": "7InxFQIobbDm"
   },
   "outputs": [],
   "source": [
    "train_texts, test_texts, y_train, y_test = train_test_split(texts, y, random_state=42, test_size=0.2, stratify=y)"
   ]
  },
  {
   "cell_type": "code",
   "execution_count": 119,
   "metadata": {
    "id": "20Yn6tazXdv6"
   },
   "outputs": [],
   "source": [
    "vectorizer = CountVectorizer(ngram_range=(1,3), analyzer='char_wb')\n",
    "X_train = vectorizer.fit_transform(train_texts)\n",
    "X_test = vectorizer.transform(test_texts)"
   ]
  },
  {
   "cell_type": "code",
   "execution_count": 120,
   "metadata": {
    "colab": {
     "base_uri": "https://localhost:8080/"
    },
    "id": "qLlE7h7vXdss",
    "outputId": "89bb0557-76e7-452b-a7ba-45d61e69c838"
   },
   "outputs": [
    {
     "name": "stdout",
     "output_type": "stream",
     "text": [
      "Количество признаков: 1916\n"
     ]
    },
    {
     "data": {
      "text/plain": [
       "['ятс', 'яты', 'ять', 'ях', 'ях ']"
      ]
     },
     "execution_count": 120,
     "metadata": {},
     "output_type": "execute_result"
    }
   ],
   "source": [
    "vocab = vectorizer.get_feature_names()\n",
    "print('Количество признаков:', len(vocab))\n",
    "vocab[-5:]"
   ]
  },
  {
   "cell_type": "markdown",
   "metadata": {},
   "source": [
    "## 4. Моделирование"
   ]
  },
  {
   "cell_type": "code",
   "execution_count": 141,
   "metadata": {
    "colab": {
     "base_uri": "https://localhost:8080/"
    },
    "id": "Buzokc7_YsYV",
    "outputId": "32e4c2f5-364f-44aa-836e-2799a43e518e"
   },
   "outputs": [
    {
     "name": "stdout",
     "output_type": "stream",
     "text": [
      "Точность на Train:     0.9861\n",
      "Точность на Test:      0.5000\n"
     ]
    }
   ],
   "source": [
    "clf = LogisticRegression(max_iter=10000, random_state=42, C=1.5, l1_ratio=0.5, \n",
    "                         penalty='elasticnet', solver='saga').fit(X_train, y_train)\n",
    "print(f'Точность на Train: {clf.score(X_train, y_train):>10.4f}')\n",
    "print(f'Точность на Test: {clf.score(X_test, y_test):>11.4f}') "
   ]
  },
  {
   "cell_type": "code",
   "execution_count": 140,
   "metadata": {},
   "outputs": [
    {
     "name": "stdout",
     "output_type": "stream",
     "text": [
      "Метрика F1 на Test: 0.4481\n"
     ]
    }
   ],
   "source": [
    "print(f\"Метрика F1 на Test: {f1_score(y_test, clf.predict(X_test), average='weighted'):.4f}\") "
   ]
  },
  {
   "cell_type": "code",
   "execution_count": 129,
   "metadata": {},
   "outputs": [],
   "source": [
    "#на всех данных\n",
    "vectorizer_final = CountVectorizer(ngram_range=(1,3), analyzer='char_wb')\n",
    "X_full = vectorizer_final.fit_transform(texts)\n",
    "\n",
    "final_model = LogisticRegression(max_iter=10000, random_state=42, C=1.5, l1_ratio=0.5, \n",
    "                         penalty='elasticnet', solver='saga').fit(X_full, y)"
   ]
  },
  {
   "cell_type": "code",
   "execution_count": 133,
   "metadata": {},
   "outputs": [],
   "source": [
    "with open('intent_model.pkl', 'wb') as f:\n",
    "    pickle.dump(final_model , f)"
   ]
  },
  {
   "cell_type": "code",
   "execution_count": 134,
   "metadata": {},
   "outputs": [],
   "source": [
    "with open('intent_vectorizer.pkl', 'wb') as f:\n",
    "    pickle.dump(vectorizer_final, f)"
   ]
  },
  {
   "cell_type": "markdown",
   "metadata": {
    "id": "GoTs5FtUaiYR"
   },
   "source": [
    "## 5. Имитация чат бота"
   ]
  },
  {
   "cell_type": "code",
   "execution_count": 131,
   "metadata": {
    "id": "V413ihNiZA-f"
   },
   "outputs": [],
   "source": [
    "def get_intent_by_model(text):\n",
    "    proba = final_model.predict_proba(vectorizer_final.transform([text]))\n",
    "    intent = final_model.classes_[proba.argmax()]\n",
    "    print('Вероятность интента:', proba.max(), f'({intent})')\n",
    "    if proba.max() >= 0.45:\n",
    "        return intent\n",
    "\n",
    "def bot(input_text):\n",
    "    intent = get_intent_by_model(text_cleaning(input_text))\n",
    "    if intent:\n",
    "        return random.choice(BOT_CONFIG['intents'][intent]['responses'])"
   ]
  },
  {
   "cell_type": "code",
   "execution_count": 132,
   "metadata": {
    "colab": {
     "base_uri": "https://localhost:8080/"
    },
    "id": "giN0MoZ2Z6o6",
    "outputId": "13abc812-8a59-476f-c106-7344e4aa65d8"
   },
   "outputs": [
    {
     "name": "stdout",
     "output_type": "stream",
     "text": [
      "привет\n",
      "Вероятность интента: 0.6191379130472436 (hello)\n",
      "Здравствуй, человек\n",
      "как дела\n",
      "Вероятность интента: 0.7090670357184188 (howdoyoudo)\n",
      "хорошо, а ты?\n",
      "философ\n",
      "Вероятность интента: 0.561630548125099 (philosophy)\n",
      "Иногда воспоминания приносят облегчение, а иногда они мука, но мы цепляемся за воспоминания, потому что это все что нам осталось\n",
      "ты че умный\n",
      "Вероятность интента: 0.6387338006894999 (philosophy)\n",
      "Скрывать чувства это не храбрость. Принять боль, пропустить через себя - для этого нужно мужество\n",
      "умничаешь\n",
      "Вероятность интента: 0.596663395165071 (philosophy)\n",
      "Нет больше никакаих жанров, никакаих ярлыков, только люди\n",
      "какой цвет\n",
      "Вероятность интента: 0.9633890989660986 (chooseacolor)\n",
      "красный\n",
      "какого цвета машина\n",
      "Вероятность интента: 0.7475656514677066 (chooseacolor)\n",
      "оранжевый\n",
      "что почитать\n",
      "Вероятность интента: 0.7667507845270224 (whattoread)\n",
      "Шум. Изъян в человеческом суждении\n",
      "круто\n",
      "Вероятность интента: 0.11422363539007772 (car)\n",
      "прикол\n",
      "Вероятность интента: 0.7819487850992138 (justfun)\n",
      "))))))\n",
      "давай дружить\n",
      "Вероятность интента: 0.7919733568030141 (friendlist)\n",
      "зачем мне это\n",
      "как настроение\n",
      "Вероятность интента: 0.8283530480577797 (mood)\n",
      "голоден\n",
      "поешь\n",
      "Вероятность интента: 0.11528859329243425 (favouritedish)\n",
      "есть\n",
      "Вероятность интента: 0.06045771889351919 (are you here)\n",
      "твое любимое блюдо\n",
      "Вероятность интента: 0.8998658097404157 (favouritedish)\n",
      "пицца\n",
      "пицца\n",
      "Вероятность интента: 0.9511293553417935 (pizza)\n",
      "Греческая\n",
      "stop\n"
     ]
    }
   ],
   "source": [
    "input_text = ''\n",
    "while input_text != 'stop':\n",
    "    input_text = input()\n",
    "    if input_text != 'stop':\n",
    "        response = bot(input_text)\n",
    "        if response:\n",
    "            print(response)"
   ]
  }
 ],
 "metadata": {
  "colab": {
   "name": "ChatBot - Day 2.ipynb",
   "provenance": []
  },
  "kernelspec": {
   "display_name": "Python 3",
   "language": "python",
   "name": "python3"
  },
  "language_info": {
   "codemirror_mode": {
    "name": "ipython",
    "version": 3
   },
   "file_extension": ".py",
   "mimetype": "text/x-python",
   "name": "python",
   "nbconvert_exporter": "python",
   "pygments_lexer": "ipython3",
   "version": "3.7.10"
  }
 },
 "nbformat": 4,
 "nbformat_minor": 1
}
