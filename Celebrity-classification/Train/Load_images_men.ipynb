{
 "cells": [
  {
   "cell_type": "markdown",
   "id": "0c00f9fc",
   "metadata": {},
   "source": [
    "Пример с OpenCV: https://github.com/codebasics/py/tree/master/DataScience/CelebrityFaceRecognition\n",
    "\n",
    "Пример с face-recognition: https://github.com/miracl1e6/similar-to-actor\n",
    "\n",
    "Док. OpenCV: https://docs.opencv.org/3.4/db/d28/tutorial_cascade_classifier.html\n",
    "\n",
    "Док. face-recognition: https://face-recognition.readthedocs.io/en/latest/readme.html\n",
    "\n",
    "---"
   ]
  },
  {
   "cell_type": "markdown",
   "id": "82154dd8",
   "metadata": {},
   "source": [
    "Гайд по скачиванию картинок: https://towardsdatascience.com/image-scraping-with-python-a96feda8af2d\n",
    "\n",
    "Док Selenium: https://www.selenium.dev/selenium/docs/api/py/index.html\n",
    "\n",
    "Google Search Parameters: https://moz.com/blog/the-ultimate-guide-to-the-google-search-parameters\n",
    "\n",
    "Pillow - работа с изображениями: https://pillow.readthedocs.io/en/latest/"
   ]
  },
  {
   "cell_type": "markdown",
   "id": "4ddfddc7",
   "metadata": {},
   "source": [
    "+ tbm = isch - поиск картинок\n",
    "+ safe = off - возрастной фильтр\n",
    "+ source = новостой источник"
   ]
  },
  {
   "cell_type": "code",
   "execution_count": 1,
   "id": "57eb74c5",
   "metadata": {},
   "outputs": [],
   "source": [
    "import glob\n",
    "import json\n",
    "import requests\n",
    "import time\n",
    "\n",
    "from pathlib import Path\n",
    "from selenium import webdriver\n",
    "from tqdm.notebook import tqdm\n",
    "from PIL import Image\n",
    "\n",
    "from load_images import search_and_download_images"
   ]
  },
  {
   "cell_type": "markdown",
   "id": "9ba25c48",
   "metadata": {},
   "source": [
    "# Импорт данных"
   ]
  },
  {
   "cell_type": "code",
   "execution_count": 2,
   "id": "96939434",
   "metadata": {},
   "outputs": [],
   "source": [
    "with open('config/actress_actors.json', 'r') as fp:\n",
    "    dict_act = json.load(fp)"
   ]
  },
  {
   "cell_type": "code",
   "execution_count": 3,
   "id": "2afdae8d",
   "metadata": {},
   "outputs": [],
   "source": [
    "SIZE = 256\n",
    "DRIVER_PATH = 'C:/Users/Rodion/webdriver/chromedriver.exe'"
   ]
  },
  {
   "cell_type": "markdown",
   "id": "673ccdf3",
   "metadata": {},
   "source": [
    "# Скачивание изображений "
   ]
  },
  {
   "cell_type": "code",
   "execution_count": 5,
   "id": "9cb0b8e6",
   "metadata": {},
   "outputs": [
    {
     "data": {
      "application/vnd.jupyter.widget-view+json": {
       "model_id": "9d2469cfedd74e91b9f08781484ac845",
       "version_major": 2,
       "version_minor": 0
      },
      "text/plain": [
       "  0%|          | 0/74 [00:00<?, ?it/s]"
      ]
     },
     "metadata": {},
     "output_type": "display_data"
    },
    {
     "name": "stdout",
     "output_type": "stream",
     "text": [
      "face Adam Sandler. Скачено 20/20\n",
      "--------------------------------------------------\n",
      "face Adrien Brody. Скачено 20/20\n",
      "--------------------------------------------------\n",
      "face Al Pacino. Скачено 20/20\n",
      "--------------------------------------------------\n",
      "face Anthony Hopkins. Скачено 20/20\n",
      "--------------------------------------------------\n",
      "face Antonio Banderas. Скачено 20/20\n",
      "--------------------------------------------------\n",
      "face Arnold Schwarzenegger. Скачено 20/20\n",
      "--------------------------------------------------\n",
      "face Ashton Kutcher. Скачено 20/20\n",
      "--------------------------------------------------\n",
      "face Ben Stiller. Скачено 20/20\n",
      "--------------------------------------------------\n",
      "face Ben Foster. Скачено 20/20\n",
      "--------------------------------------------------\n",
      "face Ben Affleck. Скачено 20/20\n",
      "--------------------------------------------------\n",
      "face Brad Pitt. Скачено 20/20\n",
      "--------------------------------------------------\n",
      "face Bruce Willis. Скачено 20/20\n",
      "--------------------------------------------------\n",
      "face Charlie Sheen. Скачено 20/20\n",
      "--------------------------------------------------\n",
      "face Christian Bale. Скачено 20/20\n",
      "--------------------------------------------------\n",
      "face Christoph Waltz. Скачено 20/20\n",
      "--------------------------------------------------\n",
      "face Clint Eastwood. Скачено 20/20\n",
      "--------------------------------------------------\n",
      "face Colin Firth. Скачено 20/20\n",
      "--------------------------------------------------\n",
      "face Cuba Gooding Jr.. Скачено 20/20\n",
      "--------------------------------------------------\n",
      "face Daniel Day-Lewis. Скачено 20/20\n",
      "--------------------------------------------------\n",
      "face Dennis Quaid. Скачено 20/20\n",
      "--------------------------------------------------\n",
      "face Denzel Washington. Скачено 20/20\n",
      "--------------------------------------------------\n",
      "face Donald Sutherland. Скачено 20/20\n",
      "--------------------------------------------------\n",
      "face Dustin Hoffman. Скачено 20/20\n",
      "--------------------------------------------------\n",
      "face Edward Norton. Скачено 20/20\n",
      "--------------------------------------------------\n",
      "face Gary Oldman. Скачено 20/20\n",
      "--------------------------------------------------\n",
      "face George Clooney. Скачено 20/20\n",
      "--------------------------------------------------\n",
      "face Gerard Butler. Скачено 20/20\n",
      "--------------------------------------------------\n",
      "face Harrison Ford. Скачено 20/20\n",
      "--------------------------------------------------\n",
      "face Hugh Grant. Скачено 20/20\n",
      "--------------------------------------------------\n",
      "face Hugh Jackman. Скачено 20/20\n",
      "--------------------------------------------------\n",
      "face Ian Holm. Скачено 20/20\n",
      "--------------------------------------------------\n",
      "ОШИБКА - не загружается https://i.pinimg.com/736x/9b/56/29/9b5629c68afcb39fdd08fcc11c63139a--jack-black-celebrity-faces.jpg - HTTPSConnectionPool(host='i.pinimg.com', port=443): Max retries exceeded with url: /736x/9b/56/29/9b5629c68afcb39fdd08fcc11c63139a--jack-black-celebrity-faces.jpg (Caused by NewConnectionError('<urllib3.connection.HTTPSConnection object at 0x00000160462F4FC8>: Failed to establish a new connection: [WinError 10060] Попытка установить соединение была безуспешной, т.к. от другого компьютера за требуемое время не получен нужный отклик, или было разорвано уже установленное соединение из-за неверного отклика уже подключенного компьютера'))\n",
      "face Jack Black. Скачено 19/20\n",
      "--------------------------------------------------\n",
      "face Jack Nicholson. Скачено 20/20\n",
      "--------------------------------------------------\n",
      "face Jake Gyllenhaal. Скачено 20/20\n",
      "--------------------------------------------------\n",
      "face James McAvoy. Скачено 20/20\n",
      "--------------------------------------------------\n",
      "face Jamie Foxx. Скачено 20/20\n",
      "--------------------------------------------------\n",
      "face Jeff Goldblum. Скачено 20/20\n",
      "--------------------------------------------------\n",
      "face Jeff Bridges. Скачено 20/20\n",
      "--------------------------------------------------\n",
      "face Jeremy Renner. Скачено 20/20\n",
      "--------------------------------------------------\n",
      "face Jim Carrey. Скачено 20/20\n",
      "--------------------------------------------------\n",
      "face John Travolta. Скачено 20/20\n",
      "--------------------------------------------------\n",
      "face John Malkovich. Скачено 20/20\n",
      "--------------------------------------------------\n",
      "face Johnny Depp. Скачено 20/20\n",
      "--------------------------------------------------\n",
      "face Jude Law. Скачено 20/20\n",
      "--------------------------------------------------\n",
      "face Keanu Reeves. Скачено 20/20\n",
      "--------------------------------------------------\n",
      "face Kevin Spacey. Скачено 20/20\n",
      "--------------------------------------------------\n",
      "face Leonardo DiCaprio. Скачено 20/20\n",
      "--------------------------------------------------\n",
      "face Liam Neeson. Скачено 20/20\n",
      "--------------------------------------------------\n",
      "face Martin Sheen. Скачено 20/20\n",
      "--------------------------------------------------\n",
      "face Matt Damon. Скачено 20/20\n",
      "--------------------------------------------------\n",
      "face Matthew McConaughey. Скачено 20/20\n",
      "--------------------------------------------------\n",
      "face Mel Gibson. Скачено 20/20\n",
      "--------------------------------------------------\n",
      "face Michael Douglas. Скачено 20/20\n",
      "--------------------------------------------------\n",
      "face Morgan Freeman. Скачено 20/20\n",
      "--------------------------------------------------\n",
      "face Nicolas Cage. Скачено 20/20\n",
      "--------------------------------------------------\n",
      "face Orlando Bloom. Скачено 20/20\n",
      "--------------------------------------------------\n",
      "face Owen Wilson. Скачено 20/20\n",
      "--------------------------------------------------\n",
      "face Philip Seymour Hoffman. Скачено 20/20\n",
      "--------------------------------------------------\n",
      "face Robert De Niro. Скачено 20/20\n",
      "--------------------------------------------------\n",
      "face Russell Crowe. Скачено 20/20\n",
      "--------------------------------------------------\n",
      "face Ryan Gosling. Скачено 20/20\n",
      "--------------------------------------------------\n",
      "face Sam Rockwell. Скачено 20/20\n",
      "--------------------------------------------------\n",
      "face Sam Neill. Скачено 20/20\n",
      "--------------------------------------------------\n",
      "face Samuel L. Jackson. Скачено 20/20\n",
      "--------------------------------------------------\n",
      "face Stephen Lang. Скачено 20/20\n",
      "--------------------------------------------------\n",
      "face Steve Martin. Скачено 20/20\n",
      "--------------------------------------------------\n",
      "face Steve Carell. Скачено 20/20\n",
      "--------------------------------------------------\n",
      "face Sylvester Stallone. Скачено 20/20\n",
      "--------------------------------------------------\n",
      "face Tobey Maguire. Скачено 20/20\n",
      "--------------------------------------------------\n",
      "face Tom Cruise. Скачено 20/20\n",
      "--------------------------------------------------\n",
      "face Tom Hanks. Скачено 20/20\n",
      "--------------------------------------------------\n",
      "face Tommy Lee Jones. Скачено 20/20\n",
      "--------------------------------------------------\n",
      "face Will Smith. Скачено 20/20\n",
      "--------------------------------------------------\n",
      "face Willem Dafoe. Скачено 20/20\n",
      "--------------------------------------------------\n"
     ]
    }
   ],
   "source": [
    "# возьмем только актеров\n",
    "for key in list(dict_act.keys())[1:]:\n",
    "    # пройдемся по каждому имени\n",
    "    for face in tqdm(dict_act[key]):\n",
    "        str_face = f'face {face}'\n",
    "        dir_ = Path(f'dataset/{key}')\n",
    "        \n",
    "        # выгрузим 15 фотографий по текущему имениы\n",
    "        search_and_download_images(search_term=str_face, \n",
    "                                   driver_path=DRIVER_PATH, \n",
    "                                   target_path=dir_, \n",
    "                                   limit_images=20)\n",
    "        \n",
    "        # переименование директории\n",
    "        old_name = Path(f'dataset/{key}/' + str_face)\n",
    "        new_name = Path(f'dataset/{key}/' + face)\n",
    "        old_name.rename(new_name)"
   ]
  },
  {
   "cell_type": "markdown",
   "id": "a67bb0f0",
   "metadata": {},
   "source": [
    "# Форматирование размера изображений"
   ]
  },
  {
   "cell_type": "code",
   "execution_count": 6,
   "id": "8645b993",
   "metadata": {},
   "outputs": [
    {
     "name": "stdout",
     "output_type": "stream",
     "text": [
      "ОШИБКА: в файле dataset/men/Ben Foster\\image_17.jpg - cannot identify image file 'dataset/men/Ben Foster\\\\image_17.jpg'\n"
     ]
    },
    {
     "name": "stderr",
     "output_type": "stream",
     "text": [
      "C:\\Programs\\Anaconda\\anaconda3\\lib\\site-packages\\PIL\\Image.py:3022: UserWarning: image file could not be identified because WEBP support not installed\n",
      "  warnings.warn(message)\n"
     ]
    },
    {
     "name": "stdout",
     "output_type": "stream",
     "text": [
      "ОШИБКА: в файле dataset/men/Colin Firth\\image_16.jpg - cannot identify image file 'dataset/men/Colin Firth\\\\image_16.jpg'\n",
      "ОШИБКА: в файле dataset/men/Jamie Foxx\\image_7.jpg - cannot identify image file 'dataset/men/Jamie Foxx\\\\image_7.jpg'\n",
      "ОШИБКА: в файле dataset/men/Jim Carrey\\image_16.jpg - cannot identify image file 'dataset/men/Jim Carrey\\\\image_16.jpg'\n",
      "ОШИБКА: в файле dataset/men/Jim Carrey\\image_9.jpg - cannot identify image file 'dataset/men/Jim Carrey\\\\image_9.jpg'\n",
      "ОШИБКА: в файле dataset/men/Kevin Spacey\\image_14.jpg - cannot identify image file 'dataset/men/Kevin Spacey\\\\image_14.jpg'\n",
      "ОШИБКА: в файле dataset/men/Will Smith\\image_19.jpg - cannot identify image file 'dataset/men/Will Smith\\\\image_19.jpg'\n"
     ]
    }
   ],
   "source": [
    "# возьмем только актерам\n",
    "for key in list(dict_act.keys())[1:]:\n",
    "    # пройдемся по каждому имени\n",
    "    for face in dict_act[key]:\n",
    "        # выгрузим все название файлов из папки\n",
    "        files = glob.glob(f'dataset/{key}/{face}/*')   \n",
    "        # пройдемся по списку файлов в цикле\n",
    "        for i in files:\n",
    "            try:\n",
    "                # откроем изображение\n",
    "                image = Image.open(i)\n",
    "                # получим его размер\n",
    "                size = image.size\n",
    "                \n",
    "                # получим коэффициент, на который нужно уменьшить/увеличить\n",
    "                # изображение по одной из сторон до 256\n",
    "                coef = SIZE / size[0]\n",
    "                # изменяем размер изображения\n",
    "                resized_image = image.resize(\n",
    "                    (int(size[0] * coef), int(size[1] * coef)))\n",
    "                resized_image = resized_image.convert('RGB')\n",
    "                # сохраняем\n",
    "                resized_image.save(i)\n",
    "            except Exception as e:\n",
    "                # удаляем файл\n",
    "                print(f'ОШИБКА: в файле {i} - {e}')\n",
    "                Path(i).unlink()"
   ]
  },
  {
   "cell_type": "code",
   "execution_count": null,
   "id": "55233217",
   "metadata": {},
   "outputs": [],
   "source": []
  }
 ],
 "metadata": {
  "kernelspec": {
   "display_name": "Python 3",
   "language": "python",
   "name": "python3"
  },
  "language_info": {
   "codemirror_mode": {
    "name": "ipython",
    "version": 3
   },
   "file_extension": ".py",
   "mimetype": "text/x-python",
   "name": "python",
   "nbconvert_exporter": "python",
   "pygments_lexer": "ipython3",
   "version": "3.7.10"
  }
 },
 "nbformat": 4,
 "nbformat_minor": 5
}
